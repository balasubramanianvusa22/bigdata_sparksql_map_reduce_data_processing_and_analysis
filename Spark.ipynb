{
  "nbformat": 4,
  "nbformat_minor": 0,
  "metadata": {
    "colab": {
      "provenance": []
    },
    "kernelspec": {
      "name": "python3",
      "display_name": "Python 3"
    },
    "language_info": {
      "name": "python"
    }
  },
  "cells": [
    {
      "cell_type": "code",
      "execution_count": 1,
      "metadata": {
        "colab": {
          "base_uri": "https://localhost:8080/"
        },
        "id": "wPAILIxOFtZK",
        "outputId": "7f313130-7009-4a0e-c0e4-28fb6c13bd12"
      },
      "outputs": [
        {
          "output_type": "stream",
          "name": "stdout",
          "text": [
            "Collecting pyspark\n",
            "  Downloading pyspark-3.5.1.tar.gz (317.0 MB)\n",
            "\u001b[2K     \u001b[90m━━━━━━━━━━━━━━━━━━━━━━━━━━━━━━━━━━━━━━━━\u001b[0m \u001b[32m317.0/317.0 MB\u001b[0m \u001b[31m3.2 MB/s\u001b[0m eta \u001b[36m0:00:00\u001b[0m\n",
            "\u001b[?25h  Preparing metadata (setup.py) ... \u001b[?25l\u001b[?25hdone\n",
            "Requirement already satisfied: py4j==0.10.9.7 in /usr/local/lib/python3.10/dist-packages (from pyspark) (0.10.9.7)\n",
            "Building wheels for collected packages: pyspark\n",
            "  Building wheel for pyspark (setup.py) ... \u001b[?25l\u001b[?25hdone\n",
            "  Created wheel for pyspark: filename=pyspark-3.5.1-py2.py3-none-any.whl size=317488493 sha256=bf159f1d22f7e5a8352b28c44d8ddfe02fcc58124ea3fe980f24417a7c9531a8\n",
            "  Stored in directory: /root/.cache/pip/wheels/80/1d/60/2c256ed38dddce2fdd93be545214a63e02fbd8d74fb0b7f3a6\n",
            "Successfully built pyspark\n",
            "Installing collected packages: pyspark\n",
            "Successfully installed pyspark-3.5.1\n"
          ]
        }
      ],
      "source": [
        "!pip install pyspark"
      ]
    },
    {
      "cell_type": "code",
      "source": [
        "from pyspark import SparkConf, SparkContext\n",
        "from pyspark.sql import SparkSession\n",
        "from pyspark.sql.types import StructType, StructField, StringType, FloatType, IntegerType\n",
        "from pyspark.sql.functions import col, length, round, sum, avg, max, min, stddev, count, countDistinct, when\n",
        "import pandas as pd\n",
        "import matplotlib.pylab as plt\n",
        "import re"
      ],
      "metadata": {
        "id": "eosZUNO_Fu8n"
      },
      "execution_count": 2,
      "outputs": []
    },
    {
      "cell_type": "code",
      "source": [
        "# Initialize SparkContext and SparkSession\n",
        "conf = SparkConf().setMaster(\"local\").setAppName(\"Spark\")\n",
        "sc = SparkContext(conf=conf)\n",
        "spark = SparkSession.builder.appName(\"Spark\").getOrCreate()"
      ],
      "metadata": {
        "id": "YhXWT9UwFxln"
      },
      "execution_count": 3,
      "outputs": []
    },
    {
      "cell_type": "code",
      "source": [
        "# download the datasetss\n",
        "from urllib.request import urlretrieve\n",
        "urlretrieve('https://drive.google.com/uc?export=download&id=1JfhqO1qDK963RLnEzNrhjMbiqbYtld-U',\n",
        "            'yelp_review.csv')\n",
        "urlretrieve('https://drive.google.com/uc?export=download&id=1_UdUBOzbMqR5Th83iUAxe7mCAwd0zq1U',\n",
        "            'urban_wanderings.txt')\n",
        "urlretrieve('https://drive.google.com/uc?export=download&id=1aasyVp2_LnPhop78v6PVoV2nvFfD8hXm',\n",
        "            'stop_words.txt')\n",
        "urlretrieve('https://drive.google.com/uc?export=download&id=1dE5B915DkZqEwIgYXBoJMRJPrsmitFKM',\n",
        "            'yelp_review_new.csv')"
      ],
      "metadata": {
        "colab": {
          "base_uri": "https://localhost:8080/"
        },
        "id": "MZ4qnn-JG7Mu",
        "outputId": "328c2718-06dd-421c-dd3f-4d5e045fa866"
      },
      "execution_count": 4,
      "outputs": [
        {
          "output_type": "execute_result",
          "data": {
            "text/plain": [
              "('yelp_review_new.csv', <http.client.HTTPMessage at 0x7fa246d05180>)"
            ]
          },
          "metadata": {},
          "execution_count": 4
        }
      ]
    },
    {
      "cell_type": "code",
      "source": [
        "# Spark Transformation: map, flatMap, filter, distinct\n",
        "numbers = [1, 2, 3, 4, 5, 6, 7]\n",
        "numbers = sc.parallelize(numbers)\n",
        "\n",
        "print(numbers.map(lambda x: x**2).collect())\n",
        "\n",
        "texts = [\"Jaime, Lannister\", \"Tyrion, Lannister\", \"Cersei, Lannister\",\n",
        "         \"Robb, Stark\", \"Arya, Stark\", \"Sansa, Stark\"]\n",
        "texts = sc.parallelize(texts)\n",
        "print(texts.map(lambda line: line.upper()).collect())\n",
        "print(texts.map(lambda line: line.lower()).collect())\n",
        "print(texts.flatMap(lambda line: line.split(', ')).collect())\n",
        "print(texts.filter(lambda line: \"Stark\" in line).collect())\n",
        "\n",
        "data = sc.parallelize([1, 1, 3, -5, 'data', 'Data'])\n",
        "print(data.distinct().collect())\n",
        "list_data = sc.parallelize(['1', '1', '3', '-5', 'data', 'Data'])\n",
        "lower_data = list_data.map(lambda line: line.lower())\n",
        "print(lower_data.distinct().collect())"
      ],
      "metadata": {
        "colab": {
          "base_uri": "https://localhost:8080/"
        },
        "id": "qGHDMtX6F4Jf",
        "outputId": "3359e077-8d87-4132-ba2f-0f9602a5d647"
      },
      "execution_count": 5,
      "outputs": [
        {
          "output_type": "stream",
          "name": "stdout",
          "text": [
            "[1, 4, 9, 16, 25, 36, 49]\n",
            "['JAIME, LANNISTER', 'TYRION, LANNISTER', 'CERSEI, LANNISTER', 'ROBB, STARK', 'ARYA, STARK', 'SANSA, STARK']\n",
            "['jaime, lannister', 'tyrion, lannister', 'cersei, lannister', 'robb, stark', 'arya, stark', 'sansa, stark']\n",
            "['Jaime', 'Lannister', 'Tyrion', 'Lannister', 'Cersei', 'Lannister', 'Robb', 'Stark', 'Arya', 'Stark', 'Sansa', 'Stark']\n",
            "['Robb, Stark', 'Arya, Stark', 'Sansa, Stark']\n",
            "[1, 3, -5, 'data', 'Data']\n",
            "['1', '3', '-5', 'data']\n"
          ]
        }
      ]
    },
    {
      "cell_type": "code",
      "source": [
        "# Spark Transformation: groupByKey, reduceByKey, sortBy\n",
        "grades = [(\"s1\", 100), (\"s1\", 96), (\"s2\", 93), (\"s3\", 75), (\"s1\", 60)]\n",
        "grades = sc.parallelize(grades)\n",
        "grouped_grades = grades.groupByKey().collect()\n",
        "\n",
        "grouped_grades_list = [(key, list(values)) for key, values in grouped_grades]\n",
        "for key, values in grouped_grades_list:\n",
        "    print(key, values)\n",
        "\n",
        "grades = [(\"s1\", 100), (\"s1\", 96), (\"s2\", 93), (\"s3\", 75), (\"s1\", 60)]\n",
        "grades = sc.parallelize(grades)\n",
        "print(grades.reduceByKey(lambda v1,v2: v1+v2).collect())\n",
        "reduced_grades = grades.reduceByKey(lambda v1,v2: v1+v2).collect()\n",
        "for key, values in reduced_grades:\n",
        "  print(key, values)\n",
        "\n",
        "## Sort RDD by values in the ascending order\n",
        "print(grades.sortBy(lambda pair: pair[1]).collect())\n",
        "\n",
        "## Sort RDD by values in the descending order\n",
        "print(grades.sortBy(lambda pair: -pair[1]).collect())\n",
        "\n",
        "## Sort RDD by keys\n",
        "print(grades.sortBy(lambda pair: pair[0]).collect())\n",
        "print(grades.sortByKey(ascending=True).collect())\n",
        "print(grades.sortByKey(ascending=False).collect())"
      ],
      "metadata": {
        "colab": {
          "base_uri": "https://localhost:8080/"
        },
        "id": "xvQrMNNB78n3",
        "outputId": "43b0f4be-1021-46de-f098-71d35709dd83"
      },
      "execution_count": 6,
      "outputs": [
        {
          "output_type": "stream",
          "name": "stdout",
          "text": [
            "s1 [100, 96, 60]\n",
            "s2 [93]\n",
            "s3 [75]\n",
            "[('s1', 256), ('s2', 93), ('s3', 75)]\n",
            "s1 256\n",
            "s2 93\n",
            "s3 75\n",
            "[('s1', 60), ('s3', 75), ('s2', 93), ('s1', 96), ('s1', 100)]\n",
            "[('s1', 100), ('s1', 96), ('s2', 93), ('s3', 75), ('s1', 60)]\n",
            "[('s1', 100), ('s1', 96), ('s1', 60), ('s2', 93), ('s3', 75)]\n",
            "[('s1', 100), ('s1', 96), ('s1', 60), ('s2', 93), ('s3', 75)]\n",
            "[('s3', 75), ('s2', 93), ('s1', 100), ('s1', 96), ('s1', 60)]\n"
          ]
        }
      ]
    },
    {
      "cell_type": "code",
      "source": [
        "# Spark Transformation: subtract, intersection, union\n",
        "data1 = sc.parallelize(['Stark', 'Lannister', 'Targaryen'])\n",
        "data2 = sc.parallelize(['Baratheon', 'Martell', 'Lannister'])\n",
        "print(data1.subtract(data2).collect())\n",
        "print(data2.subtract(data1).collect())\n",
        "print(data1.intersection(data2).collect())\n",
        "print(data1.union(data2).collect())\n",
        "print(set(data1.union(data2).collect()))"
      ],
      "metadata": {
        "colab": {
          "base_uri": "https://localhost:8080/"
        },
        "id": "km0cEH5F-ut7",
        "outputId": "c437d7af-7dbd-4ded-cdd1-4c33ca6767ac"
      },
      "execution_count": 7,
      "outputs": [
        {
          "output_type": "stream",
          "name": "stdout",
          "text": [
            "['Stark', 'Targaryen']\n",
            "['Martell', 'Baratheon']\n",
            "['Lannister']\n",
            "['Stark', 'Lannister', 'Targaryen', 'Baratheon', 'Martell', 'Lannister']\n",
            "{'Lannister', 'Targaryen', 'Martell', 'Stark', 'Baratheon'}\n"
          ]
        }
      ]
    },
    {
      "cell_type": "code",
      "source": [
        "data = [('Robb',19),('Sansa',17),('Arya',14),('Bran',12),('Rickon',8)]\n",
        "rdd = sc.parallelize(data)\n",
        "people = spark.createDataFrame(rdd, [\"Name\", \"Age\"])\n",
        "people.show()\n",
        "print(people.take(4))\n",
        "print(people.head(3))"
      ],
      "metadata": {
        "colab": {
          "base_uri": "https://localhost:8080/"
        },
        "id": "Jvnptld7F7p3",
        "outputId": "dad65afb-0d27-411d-bb10-578500184e69"
      },
      "execution_count": 8,
      "outputs": [
        {
          "output_type": "stream",
          "name": "stdout",
          "text": [
            "+------+---+\n",
            "|  Name|Age|\n",
            "+------+---+\n",
            "|  Robb| 19|\n",
            "| Sansa| 17|\n",
            "|  Arya| 14|\n",
            "|  Bran| 12|\n",
            "|Rickon|  8|\n",
            "+------+---+\n",
            "\n",
            "[Row(Name='Robb', Age=19), Row(Name='Sansa', Age=17), Row(Name='Arya', Age=14), Row(Name='Bran', Age=12)]\n",
            "[Row(Name='Robb', Age=19), Row(Name='Sansa', Age=17), Row(Name='Arya', Age=14)]\n"
          ]
        }
      ]
    },
    {
      "cell_type": "code",
      "source": [
        "# Spark SQL: createDataFrame, read csv, withColumn, select, drop, dropDuplicates, fillna, sort, groupBy, agg, createOrReplaceTempView\n",
        "pdf = pd.read_csv('yelp_review.csv')\n",
        "print(\"Displaying top 20 rows of yelp reviews\")\n",
        "print(pdf.head(20))\n",
        "\n",
        "# Converting pandas dataframe to Spark dataframe\n",
        "df = spark.createDataFrame(pdf)\n",
        "print()\n",
        "print(\"Displaying top 5 rows of yelp reviews\")\n",
        "df.show(n=5)\n",
        "\n",
        "print(\"Running SQL Query on a Spark DataFrame Temporary View\")\n",
        "df.createOrReplaceTempView(\"reviews_df\")\n",
        "spark.sql(\n",
        "\"\"\"\n",
        "    SELECT *\n",
        "    FROM reviews_df\n",
        "    WHERE review_count > 500 AND stars > 4\n",
        "    ORDER BY review_count DESC, stars DESC\n",
        "\"\"\"\n",
        ").show(n=20)\n",
        "\n",
        "# Schema definition\n",
        "df = spark.read.csv('yelp_review.csv', header=True, inferSchema=True)\n",
        "print('Inferred Schema of the DataFrame:')\n",
        "df.printSchema()\n",
        "schema = StructType([\n",
        "    StructField('name', StringType(), True),\n",
        "    StructField('postal_code', StringType(), True),\n",
        "    StructField('stars', FloatType(), True),\n",
        "    StructField('review_count', IntegerType(), True),\n",
        "    StructField('is_open', IntegerType(), True)])\n",
        "reviews = spark.read.csv('yelp_review.csv', header=True, schema=schema)\n",
        "print('Specified Schema of the DataFrame:')\n",
        "reviews.printSchema()"
      ],
      "metadata": {
        "colab": {
          "base_uri": "https://localhost:8080/"
        },
        "id": "IGQKZnynk9LX",
        "outputId": "0b1aa86f-c071-4424-fdab-772d3733c3c9"
      },
      "execution_count": 9,
      "outputs": [
        {
          "output_type": "stream",
          "name": "stdout",
          "text": [
            "Displaying top 20 rows of yelp reviews\n",
            "                           name  postal_code  stars  review_count  is_open\n",
            "0           Cold Stone Creamery      85032.0    3.5          37.0        1\n",
            "1   House of Blunt's Smoke Shop      85008.0    5.0           5.0        0\n",
            "2            Copper Square Cafe      85004.0    NaN           3.0        0\n",
            "3                Wang’s Express      85032.0    3.5         108.0        0\n",
            "4                       Safeway      85051.0    3.0          22.0        0\n",
            "5                Carl's Jr 7091      85022.0    2.0          29.0        1\n",
            "6          Carniceria Mi Casita      85015.0    3.5           3.0        1\n",
            "7              The Dipping Well      85041.0    4.0           4.0        0\n",
            "8             Abby's Grill-Cafe      85022.0    3.0           5.0        0\n",
            "9             Taste Of Honduras      85021.0    4.0          15.0        1\n",
            "10              AZ Deli Company      85012.0    3.5           4.0        1\n",
            "11                       Stella      85016.0    3.5          59.0        0\n",
            "12             Dark Hall Coffee      85013.0    4.5         107.0        1\n",
            "13                 Fuego Bistro      85014.0    4.5         746.0        1\n",
            "14            Logan's Roadhouse      85085.0    3.0         196.0        0\n",
            "15   E-san Sab Sab Thai Cuisine      85020.0    3.5          84.0        0\n",
            "16                      Safeway      85048.0    3.5          17.0        1\n",
            "17                     QuikTrip      85029.0    4.0           7.0        1\n",
            "18    Athens Pita & Greek Grill      85004.0    3.0          25.0        0\n",
            "19            Silver Spoon Cafe      85004.0    3.5           9.0        0\n",
            "\n",
            "Displaying top 5 rows of yelp reviews\n",
            "+--------------------+-----------+-----+------------+-------+\n",
            "|                name|postal_code|stars|review_count|is_open|\n",
            "+--------------------+-----------+-----+------------+-------+\n",
            "| Cold Stone Creamery|    85032.0|  3.5|        37.0|      1|\n",
            "|House of Blunt's ...|    85008.0|  5.0|         5.0|      0|\n",
            "|  Copper Square Cafe|    85004.0|  NaN|         3.0|      0|\n",
            "|      Wang’s Express|    85032.0|  3.5|       108.0|      0|\n",
            "|             Safeway|    85051.0|  3.0|        22.0|      0|\n",
            "+--------------------+-----------+-----+------------+-------+\n",
            "only showing top 5 rows\n",
            "\n",
            "Running SQL Query on a Spark DataFrame Temporary View\n",
            "+--------------------+-----------+-----+------------+-------+\n",
            "|                name|postal_code|stars|review_count|is_open|\n",
            "+--------------------+-----------+-----+------------+-------+\n",
            "|             Hooters|    85023.0|  NaN|         NaN|      0|\n",
            "|         Sochu House|    85004.0|  NaN|         NaN|      0|\n",
            "|           Yogurtini|    85004.0|  NaN|         NaN|      0|\n",
            "|     The Gelato Spot|    85016.0|  NaN|         NaN|      1|\n",
            "|          McDonald's|    85339.0|  NaN|         NaN|      1|\n",
            "|   Raspados Guerrero|    85033.0|  NaN|         NaN|      1|\n",
            "|Ancient Therapies...|    85007.0|  5.0|         NaN|      0|\n",
            "|       Cha Cha's Tea|    85007.0|  5.0|         NaN|      1|\n",
            "|     Little Miss BBQ|    85034.0|  5.0|         NaN|      1|\n",
            "|        Kabob Palace|    85051.0|  5.0|         NaN|      0|\n",
            "|       Dream Dinners|    85044.0|  5.0|         NaN|      1|\n",
            "|       Dream Dinners|    85044.0|  5.0|         NaN|      1|\n",
            "|       Phoenix Coqui|    85013.0|  5.0|         NaN|      1|\n",
            "|Phoenix Wine Parties|    85018.0|  5.0|         NaN|      1|\n",
            "|    The Dipping Well|    85041.0|  5.0|         NaN|      0|\n",
            "|            Centrico|    85004.0|  4.5|         NaN|      1|\n",
            "|      Duza's Kitchen|    85006.0|  4.5|         NaN|      0|\n",
            "|New Orleans Sno Ball|    85014.0|  4.5|         NaN|      0|\n",
            "|            Pita Pit|    85013.0|  4.5|         NaN|      0|\n",
            "|           Kool Jerk|    85017.0|  4.5|         NaN|      0|\n",
            "+--------------------+-----------+-----+------------+-------+\n",
            "only showing top 20 rows\n",
            "\n",
            "Inferred Schema of the DataFrame:\n",
            "root\n",
            " |-- name: string (nullable = true)\n",
            " |-- postal_code: integer (nullable = true)\n",
            " |-- stars: double (nullable = true)\n",
            " |-- review_count: integer (nullable = true)\n",
            " |-- is_open: integer (nullable = true)\n",
            "\n",
            "Specified Schema of the DataFrame:\n",
            "root\n",
            " |-- name: string (nullable = true)\n",
            " |-- postal_code: string (nullable = true)\n",
            " |-- stars: float (nullable = true)\n",
            " |-- review_count: integer (nullable = true)\n",
            " |-- is_open: integer (nullable = true)\n",
            "\n"
          ]
        }
      ]
    },
    {
      "cell_type": "code",
      "source": [
        "# Summary statistics of the DataFrame: count, mean, stddev, min, max\n",
        "print('Summary statistics of the DataFrame:')\n",
        "reviews.describe(['stars', 'review_count', 'is_open']).show()\n",
        "\n",
        "# Handling Duplicates\n",
        "print('Number of rows before dropping duplicates:', reviews.count())\n",
        "reviews.dropDuplicates().count()\n",
        "print('Number of rows after dropping duplicates:', reviews.dropDuplicates().count())\n",
        "\n",
        "# Imputation of NULL values with -1\n",
        "print('First 5 rows of the DataFrame before filling the missing values:')\n",
        "reviews.show(n=5)\n",
        "print('First 5 rows of the DataFrame after filling the missing values:')\n",
        "reviews.fillna(value= -1).show(n=5)\n",
        "\n",
        "# Sorting by given columns in certain orders\n",
        "print()\n",
        "print('First 5 rows of sorting the DataFrame by postal_code (dsc) and stars (asc)')\n",
        "reviews.sort('postal_code', 'stars', ascending=[False, True]).show(n=20)"
      ],
      "metadata": {
        "colab": {
          "base_uri": "https://localhost:8080/"
        },
        "id": "FzIMxvtDmGcK",
        "outputId": "d8db3407-2e48-4773-d34d-4f8ee941eb04"
      },
      "execution_count": 10,
      "outputs": [
        {
          "output_type": "stream",
          "name": "stdout",
          "text": [
            "Summary statistics of the DataFrame:\n",
            "+-------+------------------+------------------+------------------+\n",
            "|summary|             stars|      review_count|           is_open|\n",
            "+-------+------------------+------------------+------------------+\n",
            "|  count|              1547|              1538|              1635|\n",
            "|   mean|3.4450549450549453| 93.65474642392718| 0.692354740061162|\n",
            "| stddev|0.8958830915899021|191.52779860501914|0.4616600575330277|\n",
            "|    min|               1.0|                 3|                 0|\n",
            "|    max|               5.0|              3515|                 1|\n",
            "+-------+------------------+------------------+------------------+\n",
            "\n",
            "Number of rows before dropping duplicates: 1635\n",
            "Number of rows after dropping duplicates: 1500\n",
            "First 5 rows of the DataFrame before filling the missing values:\n",
            "+--------------------+-----------+-----+------------+-------+\n",
            "|                name|postal_code|stars|review_count|is_open|\n",
            "+--------------------+-----------+-----+------------+-------+\n",
            "| Cold Stone Creamery|      85032|  3.5|          37|      1|\n",
            "|House of Blunt's ...|      85008|  5.0|           5|      0|\n",
            "|  Copper Square Cafe|      85004| NULL|           3|      0|\n",
            "|      Wang’s Express|      85032|  3.5|         108|      0|\n",
            "|             Safeway|      85051|  3.0|          22|      0|\n",
            "+--------------------+-----------+-----+------------+-------+\n",
            "only showing top 5 rows\n",
            "\n",
            "First 5 rows of the DataFrame after filling the missing values:\n",
            "+--------------------+-----------+-----+------------+-------+\n",
            "|                name|postal_code|stars|review_count|is_open|\n",
            "+--------------------+-----------+-----+------------+-------+\n",
            "| Cold Stone Creamery|      85032|  3.5|          37|      1|\n",
            "|House of Blunt's ...|      85008|  5.0|           5|      0|\n",
            "|  Copper Square Cafe|      85004| -1.0|           3|      0|\n",
            "|      Wang’s Express|      85032|  3.5|         108|      0|\n",
            "|             Safeway|      85051|  3.0|          22|      0|\n",
            "+--------------------+-----------+-----+------------+-------+\n",
            "only showing top 5 rows\n",
            "\n",
            "\n",
            "First 5 rows of sorting the DataFrame by postal_code (dsc) and stars (asc)\n",
            "+--------------------+-----------+-----+------------+-------+\n",
            "|                name|postal_code|stars|review_count|is_open|\n",
            "+--------------------+-----------+-----+------------+-------+\n",
            "|         Greers Farm|      85355|  3.5|           3|      0|\n",
            "|          McDonald's|      85339| NULL|        NULL|      1|\n",
            "|Charlie Mae’s Sou...|      85339| NULL|          39|      1|\n",
            "|      Firehouse Subs|      85339|  3.0|          44|      1|\n",
            "|Federico's Mexica...|      85339|  3.0|          42|      1|\n",
            "|         Burger King|      85335|  1.5|          24|      1|\n",
            "|          McDonald's|      85331|  1.5|          39|      1|\n",
            "| Streets of New York|      85310| NULL|          94|      1|\n",
            "|          McDonald's|      85310|  2.5|          52|      1|\n",
            "|           Starbucks|      85310|  2.5|          14|      1|\n",
            "|          McDonald's|      85310|  2.5|          24|      1|\n",
            "|  Subway Restaurants|      85308|  3.0|          11|      1|\n",
            "|           Walgreens|      85304|  3.5|          10|      1|\n",
            "|La Pasadita Hot Dogs|      85303|  4.0|          54|      1|\n",
            "|  Bakery By Chef Tom|      85301|  4.0|          13|      0|\n",
            "|Little Caesars Pizza|      85283| NULL|          17|      1|\n",
            "|          Jacked Ice|      85283|  5.0|          14|      1|\n",
            "|           Starbucks|      85254|  3.5|          76|      1|\n",
            "|             Sprouts|      85253|  4.0|          15|      1|\n",
            "|Jesse James Body ...|      85250|  5.0|          11|      1|\n",
            "+--------------------+-----------+-----+------------+-------+\n",
            "only showing top 20 rows\n",
            "\n"
          ]
        }
      ]
    },
    {
      "cell_type": "code",
      "source": [
        "## drop duplicates, fill missing values, sort, filter\n",
        "reviews = reviews.dropDuplicates().fillna(value=-1)\\\n",
        "    .sort('postal_code', 'stars', ascending=[False, True])\n",
        "reviews.show(n=5)\n",
        "\n",
        "# filter transformation on a dataframe\n",
        "print('Businesses with a star rating over 4.0:')\n",
        "reviews.filter(reviews['stars'] > 4.0).show(n=5)\n",
        "print('Businesses with a star rating below 3.0 AND over 100 reviews:')\n",
        "reviews.filter((reviews['stars'] < 3.0) & (reviews['review_count'] > 100)).show(n=5)\n",
        "print('Businesses with a star rating over 4.5 OR located in 85281:')\n",
        "reviews.filter((reviews['stars'] > 4.5) | (reviews['postal_code'] == '85281')).show(n=5)\n",
        "print('Businesses not located in 85310, having more than 200 reviews, sorted by review count in ascending and star rating in descending order')\n",
        "review_filtered = reviews.filter((reviews['postal_code'] != '85310') & (reviews['review_count'] > 200))\n",
        "review_filtered = review_filtered.sort('review_count', 'stars', ascending=[True,False])\n",
        "review_filtered.show(20)"
      ],
      "metadata": {
        "id": "sv4vDWRpqEiZ",
        "colab": {
          "base_uri": "https://localhost:8080/"
        },
        "outputId": "188144f6-ac8a-4708-8df7-0510d2d9448f"
      },
      "execution_count": 11,
      "outputs": [
        {
          "output_type": "stream",
          "name": "stdout",
          "text": [
            "+--------------------+-----------+-----+------------+-------+\n",
            "|                name|postal_code|stars|review_count|is_open|\n",
            "+--------------------+-----------+-----+------------+-------+\n",
            "|         Greers Farm|      85355|  3.5|           3|      0|\n",
            "|Charlie Mae’s Sou...|      85339| -1.0|          39|      1|\n",
            "|          McDonald's|      85339| -1.0|          -1|      1|\n",
            "|Federico's Mexica...|      85339|  3.0|          42|      1|\n",
            "|      Firehouse Subs|      85339|  3.0|          44|      1|\n",
            "+--------------------+-----------+-----+------------+-------+\n",
            "only showing top 5 rows\n",
            "\n",
            "Businesses with a star rating over 4.0:\n",
            "+--------------------+-----------+-----+------------+-------+\n",
            "|                name|postal_code|stars|review_count|is_open|\n",
            "+--------------------+-----------+-----+------------+-------+\n",
            "|          Jacked Ice|      85283|  5.0|          14|      1|\n",
            "|Jesse James Body ...|      85250|  5.0|          11|      1|\n",
            "|       Yogurt Garden|      85086|  4.5|           9|      0|\n",
            "|       Desert Donuts|      85086|  4.5|         276|      1|\n",
            "|           Yogurtini|      85085|  4.5|          63|      1|\n",
            "+--------------------+-----------+-----+------------+-------+\n",
            "only showing top 5 rows\n",
            "\n",
            "Businesses with a star rating below 3.0 AND over 100 reviews:\n",
            "+--------------------+-----------+-----+------------+-------+\n",
            "|                name|postal_code|stars|review_count|is_open|\n",
            "+--------------------+-----------+-----+------------+-------+\n",
            "|Chipotle Mexican ...|      85085|  2.5|         152|      1|\n",
            "|  Buffalo Wild Wings|      85085|  2.5|         315|      1|\n",
            "|        Panera Bread|      85085|  2.5|         152|      1|\n",
            "|Ohya Sushi, Korea...|      85054| -1.0|         300|      0|\n",
            "|         Yoshi Bento|      85054| -1.0|         217|      0|\n",
            "+--------------------+-----------+-----+------------+-------+\n",
            "only showing top 5 rows\n",
            "\n",
            "Businesses with a star rating over 4.5 OR located in 85281:\n",
            "+--------------------+-----------+-----+------------+-------+\n",
            "|                name|postal_code|stars|review_count|is_open|\n",
            "+--------------------+-----------+-----+------------+-------+\n",
            "|          Jacked Ice|      85283|  5.0|          14|      1|\n",
            "|Jesse James Body ...|      85250|  5.0|          11|      1|\n",
            "|Front Pourch Brewing|      85085|  5.0|          32|      1|\n",
            "|        Blast & Brew|      85054|  5.0|          16|      1|\n",
            "|Sugar and Lace Ba...|      85053|  5.0|           5|      1|\n",
            "+--------------------+-----------+-----+------------+-------+\n",
            "only showing top 5 rows\n",
            "\n",
            "Businesses not located in 85310, having more than 200 reviews, sorted by review count in ascending and star rating in descending order\n",
            "+--------------------+-----------+-----+------------+-------+\n",
            "|                name|postal_code|stars|review_count|is_open|\n",
            "+--------------------+-----------+-----+------------+-------+\n",
            "|  Mu Shu Asian Grill|      85015|  4.0|         202|      1|\n",
            "|Mamma Mia Brick O...|      85018|  4.0|         202|      0|\n",
            "|    L&L Hawaiian BBQ|      85027|  3.0|         205|      1|\n",
            "|         Arrivederci|      85048|  3.5|         207|      1|\n",
            "|Bragg's Factory D...|      85007|  4.5|         208|      0|\n",
            "|           MOD Pizza|      85029|  4.0|         208|      1|\n",
            "|    Mucho Macho Taco|      85013|  4.0|         208|      0|\n",
            "|        Zoes Kitchen|      85016|  3.5|         210|      1|\n",
            "|Sylvia's Modern M...|      85013|  2.5|         210|      0|\n",
            "|             Pei Wei|      85020| -1.0|         211|      1|\n",
            "|        Plaza Bonita|      85085|  3.5|         214|      1|\n",
            "|    Angry Crab Shack|      85085|  4.0|         215|      1|\n",
            "|         Yoshi Bento|      85054| -1.0|         217|      0|\n",
            "|George's Famous G...|      85027|  4.5|         218|      1|\n",
            "|  JC Sushi & chinese|      85053|  3.5|         218|      1|\n",
            "|              WtfExp|      85034| -1.0|         218|      1|\n",
            "|         Smooth Brew|      85006|  4.5|         219|      1|\n",
            "|Scott's Generatio...|      85020|  3.5|         219|      0|\n",
            "|   Trattoria D'Amico|      85044|  4.0|         223|      1|\n",
            "|Roma Garden Risto...|      85032|  4.0|         223|      1|\n",
            "+--------------------+-----------+-----+------------+-------+\n",
            "only showing top 20 rows\n",
            "\n"
          ]
        }
      ]
    },
    {
      "cell_type": "code",
      "source": [
        "# Grouping by specific columns and calculating group statistics\n",
        "print('The average and standard deviation of star ratings by postal code:')\n",
        "reviews.groupby('postal_code').agg(\n",
        "    avg('stars').alias('mean_stars'),\n",
        "    stddev('stars').alias('std_stars')\n",
        ").show(n=5)\n",
        "\n",
        "print('The average and standard deviation of star ratings (rounded) by postal code:')\n",
        "reviews.groupby('postal_code').agg(\n",
        "    round(avg('stars'), 2).alias('mean_stars'),\n",
        "    round(stddev('stars'), 2).alias('std_stars')\n",
        ").show(n=5)"
      ],
      "metadata": {
        "colab": {
          "base_uri": "https://localhost:8080/"
        },
        "id": "QERSBX9txP99",
        "outputId": "753b05a2-6cd4-4e62-d1ce-8754321cf046"
      },
      "execution_count": 12,
      "outputs": [
        {
          "output_type": "stream",
          "name": "stdout",
          "text": [
            "The average and standard deviation of star ratings by postal code:\n",
            "+-----------+------------------+------------------+\n",
            "|postal_code|        mean_stars|         std_stars|\n",
            "+-----------+------------------+------------------+\n",
            "|      85022| 3.044642857142857|1.2801874355460103|\n",
            "|      85339|               1.0| 2.309401076758503|\n",
            "|      85254|               3.5|              NULL|\n",
            "|      85032| 3.186868686868687|1.2404448234935448|\n",
            "|      85003|3.0444444444444443|1.6645441029624515|\n",
            "+-----------+------------------+------------------+\n",
            "only showing top 5 rows\n",
            "\n",
            "The average and standard deviation of star ratings (rounded) by postal code:\n",
            "+-----------+----------+---------+\n",
            "|postal_code|mean_stars|std_stars|\n",
            "+-----------+----------+---------+\n",
            "|      85022|      3.04|     1.28|\n",
            "|      85339|       1.0|     2.31|\n",
            "|      85254|       3.5|     NULL|\n",
            "|      85032|      3.19|     1.24|\n",
            "|      85003|      3.04|     1.66|\n",
            "+-----------+----------+---------+\n",
            "only showing top 5 rows\n",
            "\n"
          ]
        }
      ]
    },
    {
      "cell_type": "code",
      "source": [
        "# Other aggregate functions\n",
        "print('The maximum review count and lowest star rating by postal code:')\n",
        "reviews.groupby('postal_code').agg(\n",
        "    max('review_count').alias('max_review_count'),\n",
        "    min('stars').alias('min_stars')\n",
        ").show(n=5)\n",
        "\n",
        "print('The average review count by postal code and open status:')\n",
        "reviews.groupby(['postal_code', 'is_open']).agg(\n",
        "    avg('review_count').alias('mean_review_count'),\n",
        ").show(n=20)"
      ],
      "metadata": {
        "id": "qcpXVSU_xcRn",
        "colab": {
          "base_uri": "https://localhost:8080/"
        },
        "outputId": "d5ff8cef-2b85-441f-b828-5df13d3a319f"
      },
      "execution_count": 13,
      "outputs": [
        {
          "output_type": "stream",
          "name": "stdout",
          "text": [
            "The maximum review count and lowest star rating by postal code:\n",
            "+-----------+----------------+---------+\n",
            "|postal_code|max_review_count|min_stars|\n",
            "+-----------+----------------+---------+\n",
            "|      85022|             545|     -1.0|\n",
            "|      85339|              44|     -1.0|\n",
            "|      85032|             424|     -1.0|\n",
            "|      85254|              76|      3.5|\n",
            "|      85003|            2164|     -1.0|\n",
            "+-----------+----------------+---------+\n",
            "only showing top 5 rows\n",
            "\n",
            "The average review count by postal code and open status:\n",
            "+-----------+-------+------------------+\n",
            "|postal_code|is_open| mean_review_count|\n",
            "+-----------+-------+------------------+\n",
            "|      85086|      1|             109.0|\n",
            "|      85304|      1|              10.0|\n",
            "|      85014|      1|209.63333333333333|\n",
            "|      85042|      1| 33.38095238095238|\n",
            "|      85028|      1|109.53846153846153|\n",
            "|      85021|      1|              54.1|\n",
            "|      85016|      0| 63.91428571428571|\n",
            "|      85335|      1|              24.0|\n",
            "|      85033|      0|               5.0|\n",
            "|      85048|      0|              26.7|\n",
            "|      85044|      0|31.583333333333332|\n",
            "|      85253|      1|              15.0|\n",
            "|      85254|      1|              76.0|\n",
            "|      85007|      1| 67.86666666666666|\n",
            "|      85035|      1| 40.53333333333333|\n",
            "|      85023|      0|12.833333333333334|\n",
            "|      85073|      0|               9.5|\n",
            "|      85031|      1|             24.25|\n",
            "|      85015|      0|              54.5|\n",
            "|      85048|      1| 73.48148148148148|\n",
            "+-----------+-------+------------------+\n",
            "only showing top 20 rows\n",
            "\n"
          ]
        }
      ]
    },
    {
      "cell_type": "code",
      "source": [
        "# Aggregate function Examples\n",
        "print(\"Average of reviews, and number of businesses of each group based on postal code and open stuts\")\n",
        "reviews_grouped = reviews.groupby(['postal_code', 'is_open']).agg(\n",
        "    round(avg('review_count'), 1).alias('mean_review_count'),\n",
        "    count('name').alias('num_businesses')\n",
        ")\n",
        "reviews_grouped.show(20)\n",
        "\n",
        "print(\"Average of stars and review count of each group based on postal code\")\n",
        "reviews_grouped = reviews.groupby('postal_code').agg(\n",
        "    round(avg('stars'), 2).alias('mean_stars'),\n",
        "    round(avg('review_count'), 2).alias('mean_review_count')\n",
        ")\n",
        "reviews_grouped.show(n=5)\n",
        "\n",
        "# Join operation\n",
        "print(\"All columns displayed along with the aggregation\")\n",
        "reviews_joined = reviews.join(reviews_grouped, on='postal_code', how='inner')\n",
        "reviews_joined.show(n=5)"
      ],
      "metadata": {
        "colab": {
          "base_uri": "https://localhost:8080/"
        },
        "id": "KEX5tFRJxlmj",
        "outputId": "57af4542-32ec-49a2-ccf1-9948e28ae451"
      },
      "execution_count": 14,
      "outputs": [
        {
          "output_type": "stream",
          "name": "stdout",
          "text": [
            "Average of reviews, and number of businesses of each group based on postal code and open stuts\n",
            "+-----------+-------+-----------------+--------------+\n",
            "|postal_code|is_open|mean_review_count|num_businesses|\n",
            "+-----------+-------+-----------------+--------------+\n",
            "|      85086|      1|            109.0|             3|\n",
            "|      85304|      1|             10.0|             1|\n",
            "|      85014|      1|            209.6|            30|\n",
            "|      85042|      1|             33.4|            21|\n",
            "|      85028|      1|            109.5|            13|\n",
            "|      85021|      1|             54.1|            20|\n",
            "|      85016|      0|             63.9|            35|\n",
            "|      85335|      1|             24.0|             1|\n",
            "|      85033|      0|              5.0|             2|\n",
            "|      85048|      0|             26.7|            10|\n",
            "|      85044|      0|             31.6|            12|\n",
            "|      85253|      1|             15.0|             1|\n",
            "|      85254|      1|             76.0|             1|\n",
            "|      85007|      1|             67.9|            15|\n",
            "|      85035|      1|             40.5|            15|\n",
            "|      85023|      0|             12.8|             6|\n",
            "|      85073|      0|              9.5|             6|\n",
            "|      85031|      1|             24.3|             8|\n",
            "|      85015|      0|             54.5|             8|\n",
            "|      85048|      1|             73.5|            27|\n",
            "+-----------+-------+-----------------+--------------+\n",
            "only showing top 20 rows\n",
            "\n",
            "Average of stars and review count of each group based on postal code\n",
            "+-----------+----------+-----------------+\n",
            "|postal_code|mean_stars|mean_review_count|\n",
            "+-----------+----------+-----------------+\n",
            "|      85022|      3.04|            62.27|\n",
            "|      85339|       1.0|             31.0|\n",
            "|      85254|       3.5|             76.0|\n",
            "|      85032|      3.19|            61.34|\n",
            "|      85003|      3.04|           185.07|\n",
            "+-----------+----------+-----------------+\n",
            "only showing top 5 rows\n",
            "\n",
            "All columns displayed along with the aggregation\n",
            "+-----------+--------------------+-----+------------+-------+----------+-----------------+\n",
            "|postal_code|                name|stars|review_count|is_open|mean_stars|mean_review_count|\n",
            "+-----------+--------------------+-----+------------+-------+----------+-----------------+\n",
            "|      85022|           El Quiche| -1.0|           3|      0|      3.04|            62.27|\n",
            "|      85022|  Basis New American|  4.0|          -1|      0|      3.04|            62.27|\n",
            "|      85022|           Pizza Hut|  2.5|          -1|      0|      3.04|            62.27|\n",
            "|      85022|Murray and Sons C...|  1.0|          -1|      0|      3.04|            62.27|\n",
            "|      85022|     New North China| -1.0|          45|      0|      3.04|            62.27|\n",
            "+-----------+--------------------+-----+------------+-------+----------+-----------------+\n",
            "only showing top 5 rows\n",
            "\n"
          ]
        }
      ]
    },
    {
      "cell_type": "code",
      "source": [
        "# creating a new column using withColumn function\n",
        "reviews_joined = reviews_joined.withColumn(\n",
        "    'diff_stars',\n",
        "    col('stars') - col('mean_stars')\n",
        ")\n",
        "\n",
        "# Sorting based on the created column\n",
        "print(\"Displaying reviews sorted by difference in stars from average, and review count in descending order\")\n",
        "reviews_joined.select(['name', 'postal_code', 'diff_stars', 'review_count'])\\\n",
        "    .sort('diff_stars', 'review_count', ascending=[False, False]).show(n=5)\n",
        "\n",
        "# Creating another column showcasing comparison\n",
        "print(\"\")\n",
        "print(\"Displaying along with the stars comparison column\")\n",
        "reviews_joined.withColumn(\n",
        "    'better_than_peers',\n",
        "    when(col('diff_stars') > 0.5, 'better').\n",
        "    when(col('diff_stars') < -0.5, 'worse').\n",
        "    otherwise('similar')\n",
        ").show(n=10)"
      ],
      "metadata": {
        "id": "HcohyKS_y0CJ",
        "colab": {
          "base_uri": "https://localhost:8080/"
        },
        "outputId": "0c5c13c9-cfc8-4229-bbf0-dca832cde73c"
      },
      "execution_count": 15,
      "outputs": [
        {
          "output_type": "stream",
          "name": "stdout",
          "text": [
            "Displaying reviews sorted by difference in stars from average, and review count in descending order\n",
            "+-------------------+-----------+----------+------------+\n",
            "|               name|postal_code|diff_stars|review_count|\n",
            "+-------------------+-----------+----------+------------+\n",
            "|         Jacked Ice|      85283|       3.0|          14|\n",
            "|Watertyme Westridge|      85033|      2.64|           4|\n",
            "|       Encinas Meat|      85033|      2.64|           3|\n",
            "|   Faye's Farmstand|      85043|       2.2|           5|\n",
            "|     Paint-A-Holics|      85028|      2.15|          20|\n",
            "+-------------------+-----------+----------+------------+\n",
            "only showing top 5 rows\n",
            "\n",
            "\n",
            "Displaying along with the stars comparison column\n",
            "+-----------+--------------------+-----+------------+-------+----------+-----------------+----------+-----------------+\n",
            "|postal_code|                name|stars|review_count|is_open|mean_stars|mean_review_count|diff_stars|better_than_peers|\n",
            "+-----------+--------------------+-----+------------+-------+----------+-----------------+----------+-----------------+\n",
            "|      85022|           El Quiche| -1.0|           3|      0|      3.04|            62.27|     -4.04|            worse|\n",
            "|      85022|  Basis New American|  4.0|          -1|      0|      3.04|            62.27|      0.96|           better|\n",
            "|      85022|           Pizza Hut|  2.5|          -1|      0|      3.04|            62.27|     -0.54|            worse|\n",
            "|      85022|Murray and Sons C...|  1.0|          -1|      0|      3.04|            62.27|     -2.04|            worse|\n",
            "|      85022|     New North China| -1.0|          45|      0|      3.04|            62.27|     -4.04|            worse|\n",
            "|      85022|        Pronto Pizza|  1.0|           3|      1|      3.04|            62.27|     -2.04|            worse|\n",
            "|      85022|  Bite Cafe & Bakery|  4.5|           3|      0|      3.04|            62.27|      1.46|           better|\n",
            "|      85022|  Spinato's Pizzeria|  4.5|         545|      1|      3.04|            62.27|      1.46|           better|\n",
            "|      85022|          McDonald's|  2.0|          43|      1|      3.04|            62.27|     -1.04|            worse|\n",
            "|      85022|             Pei Wei|  2.5|         198|      1|      3.04|            62.27|     -0.54|            worse|\n",
            "+-----------+--------------------+-----+------------+-------+----------+-----------------+----------+-----------------+\n",
            "only showing top 10 rows\n",
            "\n"
          ]
        }
      ]
    },
    {
      "cell_type": "code",
      "source": [
        "# Read and process external files\n",
        "stop_words_file = open('stop_words.txt')\n",
        "stop_words = stop_words_file.read().split()\n",
        "stop_words_file.close()\n",
        "urban_wanderings = sc.textFile('urban_wanderings.txt')\n",
        "words = urban_wanderings.flatMap(lambda line: line.split())\n",
        "words_cleaned = words.map(lambda word: word.lower()).filter(lambda x: x not in stop_words)\n",
        "word_counts = words_cleaned.map(lambda word: (word, 1)).reduceByKey(lambda count1, count2: count1 + count2)\n",
        "word_counts_sorted = word_counts.sortBy(lambda x: -x[1])\n",
        "top_ten_words = word_counts_sorted.take(10)\n",
        "for word_occurrence in top_ten_words:\n",
        "    print(word_occurrence[0] + ':\\t' + str(word_occurrence[1]))"
      ],
      "metadata": {
        "id": "zUkZ95ydF_lg",
        "colab": {
          "base_uri": "https://localhost:8080/"
        },
        "outputId": "8fac1ab4-206d-426c-d8f8-6bc4199c5c8b"
      },
      "execution_count": 16,
      "outputs": [
        {
          "output_type": "stream",
          "name": "stdout",
          "text": [
            "city:\t14\n",
            "city,:\t14\n",
            "sense:\t14\n",
            "found:\t11\n",
            "amidst:\t10\n",
            "help:\t10\n",
            "way:\t9\n",
            "place:\t8\n",
            "made:\t8\n",
            "bustling:\t7\n"
          ]
        }
      ]
    },
    {
      "cell_type": "code",
      "source": [
        "# Plot top 20 word occurences from the list\n",
        "top_20_words = word_counts_sorted.take(20)\n",
        "\n",
        "words, counts = zip(*top_20_words)\n",
        "print(words)\n",
        "print(counts)\n",
        "pd.Series(counts, index=words).plot(kind='bar')\n",
        "plt.show()"
      ],
      "metadata": {
        "colab": {
          "base_uri": "https://localhost:8080/",
          "height": 526
        },
        "id": "g2CQ512S17e3",
        "outputId": "b241b6b2-3fa9-499c-d3fb-29775086db5b"
      },
      "execution_count": 23,
      "outputs": [
        {
          "output_type": "stream",
          "name": "stdout",
          "text": [
            "('city', 'city,', 'sense', 'found', 'amidst', 'help', 'way', 'place', 'made', 'bustling', 'streets,', 'filled', 'heart', 'hustle', 'bustle', 'feel', 'still', 'life.', 'chaos', 'life,')\n",
            "(14, 14, 14, 11, 10, 10, 9, 8, 8, 7, 7, 7, 6, 6, 6, 6, 6, 5, 5, 5)\n"
          ]
        },
        {
          "output_type": "display_data",
          "data": {
            "text/plain": [
              "<Figure size 640x480 with 1 Axes>"
            ],
            "image/png": "[encoded data removed]"
          },
          "metadata": {}
        }
      ]
    },
    {
      "cell_type": "code",
      "source": [
        "# Replacing non-alphanumeric non-space characters in the words with empty string using RegEx\n",
        "wordcounts = (words_cleaned.flatMap(lambda word: word.split())\n",
        "                       .map(lambda word: re.sub(r'[^\\w\\s]','',word).lower())\n",
        "                       .filter(lambda word: len(word) > 0)\n",
        "                       .filter(lambda word: word not in stop_words)\n",
        "                       .map(lambda word: (word, 1))\n",
        "                       .reduceByKey(lambda x,y: x+y)\n",
        "                       .takeOrdered(20, lambda w: -w[1]))\n",
        "wordcounts"
      ],
      "metadata": {
        "colab": {
          "base_uri": "https://localhost:8080/"
        },
        "id": "FaqcwyFEVtt5",
        "outputId": "88bfdbfd-d2c0-47ae-ed2f-e07608925cde"
      },
      "execution_count": 27,
      "outputs": [
        {
          "output_type": "execute_result",
          "data": {
            "text/plain": [
              "[('city', 29),\n",
              " ('life', 14),\n",
              " ('sense', 14),\n",
              " ('found', 12),\n",
              " ('streets', 11),\n",
              " ('made', 10),\n",
              " ('amidst', 10),\n",
              " ('help', 10),\n",
              " ('way', 9),\n",
              " ('place', 8),\n",
              " ('chaos', 8),\n",
              " ('bustling', 7),\n",
              " ('filled', 7),\n",
              " ('heart', 6),\n",
              " ('hustle', 6),\n",
              " ('bustle', 6),\n",
              " ('feel', 6),\n",
              " ('still', 6),\n",
              " ('home', 6),\n",
              " ('dreams', 5)]"
            ]
          },
          "metadata": {},
          "execution_count": 27
        }
      ]
    },
    {
      "cell_type": "code",
      "source": [
        "words, counts = zip(*wordcounts)\n",
        "print(words)\n",
        "print(counts)\n",
        "pd.Series(counts, index=words).plot(kind='bar')\n",
        "plt.show()"
      ],
      "metadata": {
        "colab": {
          "base_uri": "https://localhost:8080/",
          "height": 526
        },
        "id": "GmDH2moXXGCE",
        "outputId": "2948aeb0-f79d-48be-9dbd-b3b3c2be8c08"
      },
      "execution_count": 26,
      "outputs": [
        {
          "output_type": "stream",
          "name": "stdout",
          "text": [
            "('city', 'life', 'sense', 'found', 'streets', 'made', 'amidst', 'help', 'way', 'place', 'chaos', 'bustling', 'filled', 'heart', 'hustle', 'bustle', 'feel', 'still', 'home', 'dreams')\n",
            "(29, 14, 14, 12, 11, 10, 10, 10, 9, 8, 8, 7, 7, 6, 6, 6, 6, 6, 6, 5)\n"
          ]
        },
        {
          "output_type": "display_data",
          "data": {
            "text/plain": [
              "<Figure size 640x480 with 1 Axes>"
            ],
            "image/png": "[encoded data removed]"
          },
          "metadata": {}
        }
      ]
    },
    {
      "cell_type": "code",
      "source": [
        "# Define functions and variables used in multiple sections\n",
        "def line_parser(line):\n",
        "    fields = line.split(',')\n",
        "    postal_code = fields[1]\n",
        "    stars = fields[2]\n",
        "    return (postal_code, stars)"
      ],
      "metadata": {
        "id": "Elfn6mGRF06X"
      },
      "execution_count": 28,
      "outputs": []
    },
    {
      "cell_type": "code",
      "source": [
        "# Transformations using Map Reduce\n",
        "lines = sc.textFile(\"yelp_review_new.csv\")\n",
        "header = lines.first()\n",
        "lines = lines.filter(lambda line: line != header)\n",
        "rdd = lines.map(line_parser)\n",
        "print('First 5 pairs: ')\n",
        "for pair in rdd.take(5):\n",
        "    print(pair[0] + ':', pair[1])\n",
        "print()\n",
        "print(\"Performing the following transformations:\")\n",
        "print(\"Filtering out missing values, Converting star ratings to float, Creating postal code: (stars, 1) pairs, Getting total str ratings by postal code\")\n",
        "rdd = lines.map(line_parser)\n",
        "rdd = rdd.filter(lambda line: (len(line[0]) != 0) and (len(line[1]) != 0))\n",
        "rdd = rdd.map(lambda line: (line[0], float(line[1])))\n",
        "rdd = rdd.map(lambda line: (line[0], (line[1], 1)))\n",
        "totals_by_code = rdd.reduceByKey(lambda x, y: (x[0] + y[0], x[1] + y[1]))\n",
        "# Can be performaed in a single line\n",
        "# totals_by_code = lines.map(line_parser).filter(lambda line: (len(line[0]) != 0) and (len(line[1]) != 0)).map(lambda line: (line[0], float(line[1]))).map(lambda line: (line[0], (line[1], 1))).reduceByKey(lambda x, y: (x[0] + y[0], x[1] + y[1]))\n",
        "\n",
        "print()\n",
        "print('First 5 reduced pairs: ')\n",
        "for pair in totals_by_code.take(5):\n",
        "    print(pair[0] + ':', pair[1])\n",
        "averages_by_code = totals_by_code.map(lambda x: (x[0], x[1][0] / x[1][1]))\n",
        "averages_by_code_sorted = averages_by_code.sortBy(lambda x: (-x[1], x[0]))\n",
        "print()\n",
        "print(\"Displaying average star ratings by postal code, and sorting the results\")\n",
        "for result in averages_by_code_sorted.take(5):\n",
        "    print(result[0] + ':', result[1])"
      ],
      "metadata": {
        "id": "OoEra_rrGB2-",
        "colab": {
          "base_uri": "https://localhost:8080/"
        },
        "outputId": "4eccfd6b-ed9b-47c0-b62b-04699a93065b"
      },
      "execution_count": 29,
      "outputs": [
        {
          "output_type": "stream",
          "name": "stdout",
          "text": [
            "First 5 pairs: \n",
            "85004: 4\n",
            "85015: 4\n",
            "85016: 3.5\n",
            "85040: 1.5\n",
            "85016: 3.5\n",
            "\n",
            "Performing the following transformations:\n",
            "Filtering out missing values, Converting star ratings to float, Creating postal code: (stars, 1) pairs, Getting total str ratings by postal code\n",
            "\n",
            "First 5 reduced pairs: \n",
            "85004: (260.5, 74)\n",
            "85015: (121.0, 35)\n",
            "85016: (384.0, 107)\n",
            "85040: (116.0, 35)\n",
            "85053: (90.0, 26)\n",
            "\n",
            "Displaying average star ratings by postal code, and sorting the results\n",
            "85250: 5.0\n",
            "85283: 5.0\n",
            "85005: 4.5\n",
            "85001: 4.3\n",
            "85045: 4.0\n"
          ]
        }
      ]
    },
    {
      "cell_type": "code",
      "source": [
        "# Stop SparkContext\n",
        "sc.stop()"
      ],
      "metadata": {
        "id": "FGWHKApdGMWG"
      },
      "execution_count": 30,
      "outputs": []
    }
  ]
}